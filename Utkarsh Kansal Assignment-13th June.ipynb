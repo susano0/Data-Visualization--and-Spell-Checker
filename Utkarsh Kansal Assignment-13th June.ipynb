{
 "cells": [
  {
   "cell_type": "markdown",
   "metadata": {},
   "source": [
    "# Assignment - 13th June, 2019"
   ]
  },
  {
   "cell_type": "code",
   "execution_count": 1,
   "metadata": {},
   "outputs": [],
   "source": [
    "import pandas as pd\n",
    "import numpy as np\n",
    "import matplotlib.pyplot as plt\n",
    "plt.style.use('ggplot')"
   ]
  },
  {
   "cell_type": "code",
   "execution_count": 2,
   "metadata": {},
   "outputs": [
    {
     "name": "stderr",
     "output_type": "stream",
     "text": [
      "C:\\Users\\Utkarsh\\Anaconda3\\lib\\site-packages\\IPython\\core\\interactiveshell.py:3049: DtypeWarning: Columns (7) have mixed types. Specify dtype option on import or set low_memory=False.\n",
      "  interactivity=interactivity, compiler=compiler, result=result)\n"
     ]
    }
   ],
   "source": [
    "df = pd.read_csv('data.csv')\n",
    "df.drop(['time_period','time_period_type'],axis = 1,inplace = True)"
   ]
  },
  {
   "cell_type": "code",
   "execution_count": 3,
   "metadata": {},
   "outputs": [
    {
     "data": {
      "text/html": [
       "<div>\n",
       "<style scoped>\n",
       "    .dataframe tbody tr th:only-of-type {\n",
       "        vertical-align: middle;\n",
       "    }\n",
       "\n",
       "    .dataframe tbody tr th {\n",
       "        vertical-align: top;\n",
       "    }\n",
       "\n",
       "    .dataframe thead th {\n",
       "        text-align: right;\n",
       "    }\n",
       "</style>\n",
       "<table border=\"1\" class=\"dataframe\">\n",
       "  <thead>\n",
       "    <tr style=\"text-align: right;\">\n",
       "      <th></th>\n",
       "      <th>report_date</th>\n",
       "      <th>location</th>\n",
       "      <th>location_type</th>\n",
       "      <th>data_field</th>\n",
       "      <th>data_field_code</th>\n",
       "      <th>value</th>\n",
       "      <th>unit</th>\n",
       "    </tr>\n",
       "  </thead>\n",
       "  <tbody>\n",
       "    <tr>\n",
       "      <th>0</th>\n",
       "      <td>2016-03-19</td>\n",
       "      <td>Argentina-Buenos_Aires</td>\n",
       "      <td>province</td>\n",
       "      <td>cumulative_confirmed_local_cases</td>\n",
       "      <td>AR0001</td>\n",
       "      <td>0</td>\n",
       "      <td>cases</td>\n",
       "    </tr>\n",
       "    <tr>\n",
       "      <th>1</th>\n",
       "      <td>2016-03-19</td>\n",
       "      <td>Argentina-Buenos_Aires</td>\n",
       "      <td>province</td>\n",
       "      <td>cumulative_probable_local_cases</td>\n",
       "      <td>AR0002</td>\n",
       "      <td>0</td>\n",
       "      <td>cases</td>\n",
       "    </tr>\n",
       "    <tr>\n",
       "      <th>2</th>\n",
       "      <td>2016-03-19</td>\n",
       "      <td>Argentina-Buenos_Aires</td>\n",
       "      <td>province</td>\n",
       "      <td>cumulative_confirmed_imported_cases</td>\n",
       "      <td>AR0003</td>\n",
       "      <td>2</td>\n",
       "      <td>cases</td>\n",
       "    </tr>\n",
       "    <tr>\n",
       "      <th>3</th>\n",
       "      <td>2016-03-19</td>\n",
       "      <td>Argentina-Buenos_Aires</td>\n",
       "      <td>province</td>\n",
       "      <td>cumulative_probable_imported_cases</td>\n",
       "      <td>AR0004</td>\n",
       "      <td>1</td>\n",
       "      <td>cases</td>\n",
       "    </tr>\n",
       "    <tr>\n",
       "      <th>4</th>\n",
       "      <td>2016-03-19</td>\n",
       "      <td>Argentina-Buenos_Aires</td>\n",
       "      <td>province</td>\n",
       "      <td>cumulative_cases_under_study</td>\n",
       "      <td>AR0005</td>\n",
       "      <td>127</td>\n",
       "      <td>cases</td>\n",
       "    </tr>\n",
       "  </tbody>\n",
       "</table>\n",
       "</div>"
      ],
      "text/plain": [
       "  report_date                location location_type  \\\n",
       "0  2016-03-19  Argentina-Buenos_Aires      province   \n",
       "1  2016-03-19  Argentina-Buenos_Aires      province   \n",
       "2  2016-03-19  Argentina-Buenos_Aires      province   \n",
       "3  2016-03-19  Argentina-Buenos_Aires      province   \n",
       "4  2016-03-19  Argentina-Buenos_Aires      province   \n",
       "\n",
       "                            data_field data_field_code value   unit  \n",
       "0     cumulative_confirmed_local_cases          AR0001     0  cases  \n",
       "1      cumulative_probable_local_cases          AR0002     0  cases  \n",
       "2  cumulative_confirmed_imported_cases          AR0003     2  cases  \n",
       "3   cumulative_probable_imported_cases          AR0004     1  cases  \n",
       "4         cumulative_cases_under_study          AR0005   127  cases  "
      ]
     },
     "execution_count": 3,
     "metadata": {},
     "output_type": "execute_result"
    }
   ],
   "source": [
    "df.head()"
   ]
  },
  {
   "cell_type": "code",
   "execution_count": 4,
   "metadata": {},
   "outputs": [
    {
     "data": {
      "text/html": [
       "<div>\n",
       "<style scoped>\n",
       "    .dataframe tbody tr th:only-of-type {\n",
       "        vertical-align: middle;\n",
       "    }\n",
       "\n",
       "    .dataframe tbody tr th {\n",
       "        vertical-align: top;\n",
       "    }\n",
       "\n",
       "    .dataframe thead th {\n",
       "        text-align: right;\n",
       "    }\n",
       "</style>\n",
       "<table border=\"1\" class=\"dataframe\">\n",
       "  <thead>\n",
       "    <tr style=\"text-align: right;\">\n",
       "      <th></th>\n",
       "      <th>report_date</th>\n",
       "      <th>location</th>\n",
       "      <th>location_type</th>\n",
       "      <th>data_field</th>\n",
       "      <th>data_field_code</th>\n",
       "      <th>value</th>\n",
       "      <th>unit</th>\n",
       "    </tr>\n",
       "  </thead>\n",
       "  <tbody>\n",
       "    <tr>\n",
       "      <th>count</th>\n",
       "      <td>107612</td>\n",
       "      <td>107612</td>\n",
       "      <td>107612</td>\n",
       "      <td>107612</td>\n",
       "      <td>107612</td>\n",
       "      <td>107481</td>\n",
       "      <td>107612</td>\n",
       "    </tr>\n",
       "    <tr>\n",
       "      <th>unique</th>\n",
       "      <td>128</td>\n",
       "      <td>1673</td>\n",
       "      <td>11</td>\n",
       "      <td>148</td>\n",
       "      <td>153</td>\n",
       "      <td>1749</td>\n",
       "      <td>2</td>\n",
       "    </tr>\n",
       "    <tr>\n",
       "      <th>top</th>\n",
       "      <td>2016-04-23</td>\n",
       "      <td>United_States_Virgin_Islands</td>\n",
       "      <td>municipality</td>\n",
       "      <td>zika_suspected</td>\n",
       "      <td>CO0001</td>\n",
       "      <td>0</td>\n",
       "      <td>cases</td>\n",
       "    </tr>\n",
       "    <tr>\n",
       "      <th>freq</th>\n",
       "      <td>4677</td>\n",
       "      <td>413</td>\n",
       "      <td>87557</td>\n",
       "      <td>28963</td>\n",
       "      <td>28963</td>\n",
       "      <td>45134</td>\n",
       "      <td>106519</td>\n",
       "    </tr>\n",
       "  </tbody>\n",
       "</table>\n",
       "</div>"
      ],
      "text/plain": [
       "       report_date                      location location_type  \\\n",
       "count       107612                        107612        107612   \n",
       "unique         128                          1673            11   \n",
       "top     2016-04-23  United_States_Virgin_Islands  municipality   \n",
       "freq          4677                           413         87557   \n",
       "\n",
       "            data_field data_field_code   value    unit  \n",
       "count           107612          107612  107481  107612  \n",
       "unique             148             153    1749       2  \n",
       "top     zika_suspected          CO0001       0   cases  \n",
       "freq             28963           28963   45134  106519  "
      ]
     },
     "execution_count": 4,
     "metadata": {},
     "output_type": "execute_result"
    }
   ],
   "source": [
    "df.describe()"
   ]
  },
  {
   "cell_type": "code",
   "execution_count": 5,
   "metadata": {},
   "outputs": [
    {
     "data": {
      "text/plain": [
       "report_date        object\n",
       "location           object\n",
       "location_type      object\n",
       "data_field         object\n",
       "data_field_code    object\n",
       "value              object\n",
       "unit               object\n",
       "dtype: object"
      ]
     },
     "execution_count": 5,
     "metadata": {},
     "output_type": "execute_result"
    }
   ],
   "source": [
    "df.dtypes"
   ]
  },
  {
   "cell_type": "markdown",
   "metadata": {},
   "source": [
    "## 1. show data field code 'AR0005' values for 'Argentina-Catamarca' for entire duration"
   ]
  },
  {
   "cell_type": "code",
   "execution_count": 6,
   "metadata": {},
   "outputs": [
    {
     "name": "stderr",
     "output_type": "stream",
     "text": [
      "C:\\Users\\Utkarsh\\Anaconda3\\lib\\site-packages\\ipykernel_launcher.py:2: SettingWithCopyWarning: \n",
      "A value is trying to be set on a copy of a slice from a DataFrame.\n",
      "Try using .loc[row_indexer,col_indexer] = value instead\n",
      "\n",
      "See the caveats in the documentation: http://pandas.pydata.org/pandas-docs/stable/indexing.html#indexing-view-versus-copy\n",
      "  \n"
     ]
    },
    {
     "data": {
      "text/html": [
       "<div>\n",
       "<style scoped>\n",
       "    .dataframe tbody tr th:only-of-type {\n",
       "        vertical-align: middle;\n",
       "    }\n",
       "\n",
       "    .dataframe tbody tr th {\n",
       "        vertical-align: top;\n",
       "    }\n",
       "\n",
       "    .dataframe thead th {\n",
       "        text-align: right;\n",
       "    }\n",
       "</style>\n",
       "<table border=\"1\" class=\"dataframe\">\n",
       "  <thead>\n",
       "    <tr style=\"text-align: right;\">\n",
       "      <th></th>\n",
       "      <th>report_date</th>\n",
       "      <th>location</th>\n",
       "      <th>location_type</th>\n",
       "      <th>data_field</th>\n",
       "      <th>data_field_code</th>\n",
       "      <th>value</th>\n",
       "      <th>unit</th>\n",
       "    </tr>\n",
       "  </thead>\n",
       "  <tbody>\n",
       "    <tr>\n",
       "      <th>16</th>\n",
       "      <td>2016-03-19</td>\n",
       "      <td>Argentina-Catamarca</td>\n",
       "      <td>province</td>\n",
       "      <td>cumulative_cases_under_study</td>\n",
       "      <td>AR0005</td>\n",
       "      <td>14</td>\n",
       "      <td>cases</td>\n",
       "    </tr>\n",
       "    <tr>\n",
       "      <th>160</th>\n",
       "      <td>2016-03-26</td>\n",
       "      <td>Argentina-Catamarca</td>\n",
       "      <td>province</td>\n",
       "      <td>cumulative_cases_under_study</td>\n",
       "      <td>AR0005</td>\n",
       "      <td>15</td>\n",
       "      <td>cases</td>\n",
       "    </tr>\n",
       "    <tr>\n",
       "      <th>304</th>\n",
       "      <td>2016-04-02</td>\n",
       "      <td>Argentina-Catamarca</td>\n",
       "      <td>province</td>\n",
       "      <td>cumulative_cases_under_study</td>\n",
       "      <td>AR0005</td>\n",
       "      <td>15</td>\n",
       "      <td>cases</td>\n",
       "    </tr>\n",
       "    <tr>\n",
       "      <th>448</th>\n",
       "      <td>2016-04-09</td>\n",
       "      <td>Argentina-Catamarca</td>\n",
       "      <td>province</td>\n",
       "      <td>cumulative_cases_under_study</td>\n",
       "      <td>AR0005</td>\n",
       "      <td>15</td>\n",
       "      <td>cases</td>\n",
       "    </tr>\n",
       "    <tr>\n",
       "      <th>592</th>\n",
       "      <td>2016-04-16</td>\n",
       "      <td>Argentina-Catamarca</td>\n",
       "      <td>province</td>\n",
       "      <td>cumulative_cases_under_study</td>\n",
       "      <td>AR0005</td>\n",
       "      <td>15</td>\n",
       "      <td>cases</td>\n",
       "    </tr>\n",
       "    <tr>\n",
       "      <th>736</th>\n",
       "      <td>2016-04-29</td>\n",
       "      <td>Argentina-Catamarca</td>\n",
       "      <td>province</td>\n",
       "      <td>cumulative_cases_under_study</td>\n",
       "      <td>AR0005</td>\n",
       "      <td>15</td>\n",
       "      <td>cases</td>\n",
       "    </tr>\n",
       "    <tr>\n",
       "      <th>880</th>\n",
       "      <td>2016-05-07</td>\n",
       "      <td>Argentina-Catamarca</td>\n",
       "      <td>province</td>\n",
       "      <td>cumulative_cases_under_study</td>\n",
       "      <td>AR0005</td>\n",
       "      <td>16</td>\n",
       "      <td>cases</td>\n",
       "    </tr>\n",
       "    <tr>\n",
       "      <th>1024</th>\n",
       "      <td>2016-05-14</td>\n",
       "      <td>Argentina-Catamarca</td>\n",
       "      <td>province</td>\n",
       "      <td>cumulative_cases_under_study</td>\n",
       "      <td>AR0005</td>\n",
       "      <td>15</td>\n",
       "      <td>cases</td>\n",
       "    </tr>\n",
       "    <tr>\n",
       "      <th>1168</th>\n",
       "      <td>2016-05-22</td>\n",
       "      <td>Argentina-Catamarca</td>\n",
       "      <td>province</td>\n",
       "      <td>cumulative_cases_under_study</td>\n",
       "      <td>AR0005</td>\n",
       "      <td>16</td>\n",
       "      <td>cases</td>\n",
       "    </tr>\n",
       "    <tr>\n",
       "      <th>1312</th>\n",
       "      <td>2016-05-30</td>\n",
       "      <td>Argentina-Catamarca</td>\n",
       "      <td>province</td>\n",
       "      <td>cumulative_cases_under_study</td>\n",
       "      <td>AR0005</td>\n",
       "      <td>15</td>\n",
       "      <td>cases</td>\n",
       "    </tr>\n",
       "    <tr>\n",
       "      <th>1456</th>\n",
       "      <td>2016-06-06</td>\n",
       "      <td>Argentina-Catamarca</td>\n",
       "      <td>province</td>\n",
       "      <td>cumulative_cases_under_study</td>\n",
       "      <td>AR0005</td>\n",
       "      <td>15</td>\n",
       "      <td>cases</td>\n",
       "    </tr>\n",
       "    <tr>\n",
       "      <th>1600</th>\n",
       "      <td>2016-06-13</td>\n",
       "      <td>Argentina-Catamarca</td>\n",
       "      <td>province</td>\n",
       "      <td>cumulative_cases_under_study</td>\n",
       "      <td>AR0005</td>\n",
       "      <td>15</td>\n",
       "      <td>cases</td>\n",
       "    </tr>\n",
       "    <tr>\n",
       "      <th>1744</th>\n",
       "      <td>2016-06-18</td>\n",
       "      <td>Argentina-Catamarca</td>\n",
       "      <td>province</td>\n",
       "      <td>cumulative_cases_under_study</td>\n",
       "      <td>AR0005</td>\n",
       "      <td>15</td>\n",
       "      <td>cases</td>\n",
       "    </tr>\n",
       "    <tr>\n",
       "      <th>1888</th>\n",
       "      <td>2016-06-26</td>\n",
       "      <td>Argentina-Catamarca</td>\n",
       "      <td>province</td>\n",
       "      <td>cumulative_cases_under_study</td>\n",
       "      <td>AR0005</td>\n",
       "      <td>16</td>\n",
       "      <td>cases</td>\n",
       "    </tr>\n",
       "  </tbody>\n",
       "</table>\n",
       "</div>"
      ],
      "text/plain": [
       "     report_date             location location_type  \\\n",
       "16    2016-03-19  Argentina-Catamarca      province   \n",
       "160   2016-03-26  Argentina-Catamarca      province   \n",
       "304   2016-04-02  Argentina-Catamarca      province   \n",
       "448   2016-04-09  Argentina-Catamarca      province   \n",
       "592   2016-04-16  Argentina-Catamarca      province   \n",
       "736   2016-04-29  Argentina-Catamarca      province   \n",
       "880   2016-05-07  Argentina-Catamarca      province   \n",
       "1024  2016-05-14  Argentina-Catamarca      province   \n",
       "1168  2016-05-22  Argentina-Catamarca      province   \n",
       "1312  2016-05-30  Argentina-Catamarca      province   \n",
       "1456  2016-06-06  Argentina-Catamarca      province   \n",
       "1600  2016-06-13  Argentina-Catamarca      province   \n",
       "1744  2016-06-18  Argentina-Catamarca      province   \n",
       "1888  2016-06-26  Argentina-Catamarca      province   \n",
       "\n",
       "                        data_field data_field_code  value   unit  \n",
       "16    cumulative_cases_under_study          AR0005     14  cases  \n",
       "160   cumulative_cases_under_study          AR0005     15  cases  \n",
       "304   cumulative_cases_under_study          AR0005     15  cases  \n",
       "448   cumulative_cases_under_study          AR0005     15  cases  \n",
       "592   cumulative_cases_under_study          AR0005     15  cases  \n",
       "736   cumulative_cases_under_study          AR0005     15  cases  \n",
       "880   cumulative_cases_under_study          AR0005     16  cases  \n",
       "1024  cumulative_cases_under_study          AR0005     15  cases  \n",
       "1168  cumulative_cases_under_study          AR0005     16  cases  \n",
       "1312  cumulative_cases_under_study          AR0005     15  cases  \n",
       "1456  cumulative_cases_under_study          AR0005     15  cases  \n",
       "1600  cumulative_cases_under_study          AR0005     15  cases  \n",
       "1744  cumulative_cases_under_study          AR0005     15  cases  \n",
       "1888  cumulative_cases_under_study          AR0005     16  cases  "
      ]
     },
     "execution_count": 6,
     "metadata": {},
     "output_type": "execute_result"
    }
   ],
   "source": [
    "s_df = df[(df.location == 'Argentina-Catamarca') & (df.data_field_code == 'AR0005')]\n",
    "s_df['value'] = pd.to_numeric(s_df['value'])\n",
    "s_df"
   ]
  },
  {
   "cell_type": "code",
   "execution_count": 22,
   "metadata": {},
   "outputs": [
    {
     "data": {
      "text/plain": [
       "Text(0.5, 1.0, \"'AR0005' values for 'Argentina-Catamarca'\")"
      ]
     },
     "execution_count": 22,
     "metadata": {},
     "output_type": "execute_result"
    },
    {
     "data": {
      "image/png": "[encoded data removed]",
      "text/plain": [
       "<Figure size 576x360 with 1 Axes>"
      ]
     },
     "metadata": {
      "needs_background": "light"
     },
     "output_type": "display_data"
    }
   ],
   "source": [
    "plt.figure(figsize=(8,5))\n",
    "ax = plt.bar(s_df.report_date,s_df.value)\n",
    "plt.xticks(rotation=90)\n",
    "plt.yticks(np.arange(0, 20, step=2))\n",
    "plt.ylim([0,19])\n",
    "plt.ylabel(\"Values\")\n",
    "plt.xlabel(\"Date\")\n",
    "plt.title(\"'AR0005' values for 'Argentina-Catamarca'\")"
   ]
  },
  {
   "cell_type": "markdown",
   "metadata": {},
   "source": [
    "## 2. Plot 'Argentina-CABA' and 'Argentina-Catamarca' for number of cases values for entire duration to identify the difference.\n",
    "\n",
    "### HINT : Plot sum of the 'value' where 'units' = 'cases' to identify the difference for the locations 'Argentina-CABA' and 'Argentina-Catamarca' for entire duration."
   ]
  },
  {
   "cell_type": "code",
   "execution_count": 8,
   "metadata": {},
   "outputs": [],
   "source": [
    "plt_df = df[(df.location == 'Argentina-CABA') | (df.location == 'Argentina-Catamarca') & (df.unit == 'cases')]"
   ]
  },
  {
   "cell_type": "code",
   "execution_count": 9,
   "metadata": {},
   "outputs": [
    {
     "data": {
      "text/html": [
       "<div>\n",
       "<style scoped>\n",
       "    .dataframe tbody tr th:only-of-type {\n",
       "        vertical-align: middle;\n",
       "    }\n",
       "\n",
       "    .dataframe tbody tr th {\n",
       "        vertical-align: top;\n",
       "    }\n",
       "\n",
       "    .dataframe thead th {\n",
       "        text-align: right;\n",
       "    }\n",
       "</style>\n",
       "<table border=\"1\" class=\"dataframe\">\n",
       "  <thead>\n",
       "    <tr style=\"text-align: right;\">\n",
       "      <th></th>\n",
       "      <th>report_date</th>\n",
       "      <th>location</th>\n",
       "      <th>location_type</th>\n",
       "      <th>data_field</th>\n",
       "      <th>data_field_code</th>\n",
       "      <th>value</th>\n",
       "      <th>unit</th>\n",
       "    </tr>\n",
       "  </thead>\n",
       "  <tbody>\n",
       "    <tr>\n",
       "      <th>6</th>\n",
       "      <td>2016-03-19</td>\n",
       "      <td>Argentina-CABA</td>\n",
       "      <td>province</td>\n",
       "      <td>cumulative_confirmed_local_cases</td>\n",
       "      <td>AR0001</td>\n",
       "      <td>0</td>\n",
       "      <td>cases</td>\n",
       "    </tr>\n",
       "    <tr>\n",
       "      <th>7</th>\n",
       "      <td>2016-03-19</td>\n",
       "      <td>Argentina-CABA</td>\n",
       "      <td>province</td>\n",
       "      <td>cumulative_probable_local_cases</td>\n",
       "      <td>AR0002</td>\n",
       "      <td>0</td>\n",
       "      <td>cases</td>\n",
       "    </tr>\n",
       "    <tr>\n",
       "      <th>8</th>\n",
       "      <td>2016-03-19</td>\n",
       "      <td>Argentina-CABA</td>\n",
       "      <td>province</td>\n",
       "      <td>cumulative_confirmed_imported_cases</td>\n",
       "      <td>AR0003</td>\n",
       "      <td>9</td>\n",
       "      <td>cases</td>\n",
       "    </tr>\n",
       "    <tr>\n",
       "      <th>9</th>\n",
       "      <td>2016-03-19</td>\n",
       "      <td>Argentina-CABA</td>\n",
       "      <td>province</td>\n",
       "      <td>cumulative_probable_imported_cases</td>\n",
       "      <td>AR0004</td>\n",
       "      <td>0</td>\n",
       "      <td>cases</td>\n",
       "    </tr>\n",
       "    <tr>\n",
       "      <th>10</th>\n",
       "      <td>2016-03-19</td>\n",
       "      <td>Argentina-CABA</td>\n",
       "      <td>province</td>\n",
       "      <td>cumulative_cases_under_study</td>\n",
       "      <td>AR0005</td>\n",
       "      <td>68</td>\n",
       "      <td>cases</td>\n",
       "    </tr>\n",
       "  </tbody>\n",
       "</table>\n",
       "</div>"
      ],
      "text/plain": [
       "   report_date        location location_type  \\\n",
       "6   2016-03-19  Argentina-CABA      province   \n",
       "7   2016-03-19  Argentina-CABA      province   \n",
       "8   2016-03-19  Argentina-CABA      province   \n",
       "9   2016-03-19  Argentina-CABA      province   \n",
       "10  2016-03-19  Argentina-CABA      province   \n",
       "\n",
       "                             data_field data_field_code value   unit  \n",
       "6      cumulative_confirmed_local_cases          AR0001     0  cases  \n",
       "7       cumulative_probable_local_cases          AR0002     0  cases  \n",
       "8   cumulative_confirmed_imported_cases          AR0003     9  cases  \n",
       "9    cumulative_probable_imported_cases          AR0004     0  cases  \n",
       "10         cumulative_cases_under_study          AR0005    68  cases  "
      ]
     },
     "execution_count": 9,
     "metadata": {},
     "output_type": "execute_result"
    }
   ],
   "source": [
    "plt_df.head()"
   ]
  },
  {
   "cell_type": "code",
   "execution_count": 10,
   "metadata": {},
   "outputs": [
    {
     "data": {
      "text/html": [
       "<div>\n",
       "<style scoped>\n",
       "    .dataframe tbody tr th:only-of-type {\n",
       "        vertical-align: middle;\n",
       "    }\n",
       "\n",
       "    .dataframe tbody tr th {\n",
       "        vertical-align: top;\n",
       "    }\n",
       "\n",
       "    .dataframe thead th {\n",
       "        text-align: right;\n",
       "    }\n",
       "</style>\n",
       "<table border=\"1\" class=\"dataframe\">\n",
       "  <thead>\n",
       "    <tr style=\"text-align: right;\">\n",
       "      <th></th>\n",
       "      <th>report_date</th>\n",
       "      <th>location</th>\n",
       "      <th>location_type</th>\n",
       "      <th>data_field</th>\n",
       "      <th>data_field_code</th>\n",
       "      <th>value</th>\n",
       "      <th>unit</th>\n",
       "    </tr>\n",
       "  </thead>\n",
       "  <tbody>\n",
       "    <tr>\n",
       "      <th>count</th>\n",
       "      <td>168</td>\n",
       "      <td>168</td>\n",
       "      <td>168</td>\n",
       "      <td>168</td>\n",
       "      <td>168</td>\n",
       "      <td>168</td>\n",
       "      <td>168</td>\n",
       "    </tr>\n",
       "    <tr>\n",
       "      <th>unique</th>\n",
       "      <td>14</td>\n",
       "      <td>2</td>\n",
       "      <td>1</td>\n",
       "      <td>6</td>\n",
       "      <td>6</td>\n",
       "      <td>21</td>\n",
       "      <td>1</td>\n",
       "    </tr>\n",
       "    <tr>\n",
       "      <th>top</th>\n",
       "      <td>2016-06-13</td>\n",
       "      <td>Argentina-Catamarca</td>\n",
       "      <td>province</td>\n",
       "      <td>cumulative_confirmed_imported_cases</td>\n",
       "      <td>AR0006</td>\n",
       "      <td>0</td>\n",
       "      <td>cases</td>\n",
       "    </tr>\n",
       "    <tr>\n",
       "      <th>freq</th>\n",
       "      <td>12</td>\n",
       "      <td>84</td>\n",
       "      <td>168</td>\n",
       "      <td>28</td>\n",
       "      <td>28</td>\n",
       "      <td>112</td>\n",
       "      <td>168</td>\n",
       "    </tr>\n",
       "  </tbody>\n",
       "</table>\n",
       "</div>"
      ],
      "text/plain": [
       "       report_date             location location_type  \\\n",
       "count          168                  168           168   \n",
       "unique          14                    2             1   \n",
       "top     2016-06-13  Argentina-Catamarca      province   \n",
       "freq            12                   84           168   \n",
       "\n",
       "                                 data_field data_field_code value   unit  \n",
       "count                                   168             168   168    168  \n",
       "unique                                    6               6    21      1  \n",
       "top     cumulative_confirmed_imported_cases          AR0006     0  cases  \n",
       "freq                                     28              28   112    168  "
      ]
     },
     "execution_count": 10,
     "metadata": {},
     "output_type": "execute_result"
    }
   ],
   "source": [
    "plt_df.describe()"
   ]
  },
  {
   "cell_type": "code",
   "execution_count": 11,
   "metadata": {},
   "outputs": [
    {
     "name": "stderr",
     "output_type": "stream",
     "text": [
      "C:\\Users\\Utkarsh\\Anaconda3\\lib\\site-packages\\ipykernel_launcher.py:1: SettingWithCopyWarning: \n",
      "A value is trying to be set on a copy of a slice from a DataFrame.\n",
      "Try using .loc[row_indexer,col_indexer] = value instead\n",
      "\n",
      "See the caveats in the documentation: http://pandas.pydata.org/pandas-docs/stable/indexing.html#indexing-view-versus-copy\n",
      "  \"\"\"Entry point for launching an IPython kernel.\n",
      "C:\\Users\\Utkarsh\\Anaconda3\\lib\\site-packages\\pandas\\core\\generic.py:5096: SettingWithCopyWarning: \n",
      "A value is trying to be set on a copy of a slice from a DataFrame.\n",
      "Try using .loc[row_indexer,col_indexer] = value instead\n",
      "\n",
      "See the caveats in the documentation: http://pandas.pydata.org/pandas-docs/stable/indexing.html#indexing-view-versus-copy\n",
      "  self[name] = value\n"
     ]
    }
   ],
   "source": [
    "plt_df['value'] = pd.to_numeric(plt_df['value'])\n",
    "plt_df.report_date = plt_df.report_date.apply(lambda x: x[:-3])"
   ]
  },
  {
   "cell_type": "markdown",
   "metadata": {},
   "source": [
    "## Bar Graph showing total cases registered in a month for different provinces"
   ]
  },
  {
   "cell_type": "code",
   "execution_count": 12,
   "metadata": {},
   "outputs": [
    {
     "data": {
      "text/plain": [
       "<matplotlib.legend.Legend at 0x25025d2dba8>"
      ]
     },
     "execution_count": 12,
     "metadata": {},
     "output_type": "execute_result"
    },
    {
     "data": {
      "image/png": "[encoded data removed]",
      "text/plain": [
       "<Figure size 720x576 with 1 Axes>"
      ]
     },
     "metadata": {
      "needs_background": "light"
     },
     "output_type": "display_data"
    }
   ],
   "source": [
    "d1 = plt_df[plt_df.location == 'Argentina-CABA'].groupby('report_date').sum()\n",
    "d2 = plt_df[plt_df.location == 'Argentina-Catamarca'].groupby('report_date').sum()\n",
    "d1.columns = ['Argentina-CABA']\n",
    "d2.columns = ['Argentina-Catamarca']\n",
    "ax = d1.join(d2).plot(kind = 'bar',figsize=(10,8),title=\"Total Cases in 'Argentina-CABA' and 'Argentina-Catamarca' Month wise\")\n",
    "ax.set(xlabel=\"Year-Month\", ylabel=\"Number of Cases\")\n",
    "plt.legend(title = 'Location')"
   ]
  },
  {
   "cell_type": "markdown",
   "metadata": {},
   "source": [
    "## Bar Graph showing total cases in both provinces"
   ]
  },
  {
   "cell_type": "markdown",
   "metadata": {},
   "source": [
    "ax = plt_df.groupby('location').sum()['value'].plot(kind = 'bar',title=\"Total Cases in 'Argentina-CABA' and 'Argentina-Catamarca'\")\n",
    "ax.set_ylabel(\"Number of Cases\")\n",
    "ax.set_xlabel(\"Location\")"
   ]
  },
  {
   "cell_type": "markdown",
   "metadata": {},
   "source": [
    "## Bar Graph depicting number of cases in both provinces for various types of cases"
   ]
  },
  {
   "cell_type": "code",
   "execution_count": 51,
   "metadata": {},
   "outputs": [
    {
     "data": {
      "text/plain": [
       "<matplotlib.legend.Legend at 0x2502890cd30>"
      ]
     },
     "execution_count": 51,
     "metadata": {},
     "output_type": "execute_result"
    },
    {
     "data": {
      "image/png": "[encoded data removed]",
      "text/plain": [
       "<Figure size 720x576 with 1 Axes>"
      ]
     },
     "metadata": {
      "needs_background": "light"
     },
     "output_type": "display_data"
    }
   ],
   "source": [
    "d1 = plt_df[plt_df.location == 'Argentina-CABA'].groupby('data_field').sum()\n",
    "d2 = plt_df[plt_df.location == 'Argentina-Catamarca'].groupby('data_field').sum()\n",
    "d1 = d1[d1.value>0]\n",
    "d1.columns = ['Argentina-CABA']\n",
    "d2.columns = ['Argentina-Catamarca']\n",
    "ax = d1.join(d2).plot(kind = 'bar',figsize=(10,8),title=\"Difference between 'Argentina-CABA' and 'Argentina-Catamarca' Case wise\")\n",
    "ax.set(xlabel=\"Type of Cases(Data Field)\", ylabel=\"Number of Cases\")\n",
    "plt.legend(title = 'Location')"
   ]
  },
  {
   "cell_type": "code",
   "execution_count": null,
   "metadata": {},
   "outputs": [],
   "source": []
  },
  {
   "cell_type": "markdown",
   "metadata": {},
   "source": [
    "## 3. Plot how data field values are distributed across the locations 'Argentina-Buenos_Aires', 'Argentina-CABA', 'Argentina-Catamarca'"
   ]
  },
  {
   "cell_type": "code",
   "execution_count": 14,
   "metadata": {},
   "outputs": [],
   "source": [
    "new_df = df[(df.location == 'Argentina-CABA') | (df.location == 'Argentina-Catamarca') | (df.location == 'Argentina-Buenos_Aires')]"
   ]
  },
  {
   "cell_type": "code",
   "execution_count": 15,
   "metadata": {},
   "outputs": [
    {
     "data": {
      "text/html": [
       "<div>\n",
       "<style scoped>\n",
       "    .dataframe tbody tr th:only-of-type {\n",
       "        vertical-align: middle;\n",
       "    }\n",
       "\n",
       "    .dataframe tbody tr th {\n",
       "        vertical-align: top;\n",
       "    }\n",
       "\n",
       "    .dataframe thead th {\n",
       "        text-align: right;\n",
       "    }\n",
       "</style>\n",
       "<table border=\"1\" class=\"dataframe\">\n",
       "  <thead>\n",
       "    <tr style=\"text-align: right;\">\n",
       "      <th></th>\n",
       "      <th>report_date</th>\n",
       "      <th>location</th>\n",
       "      <th>location_type</th>\n",
       "      <th>data_field</th>\n",
       "      <th>data_field_code</th>\n",
       "      <th>value</th>\n",
       "      <th>unit</th>\n",
       "    </tr>\n",
       "  </thead>\n",
       "  <tbody>\n",
       "    <tr>\n",
       "      <th>0</th>\n",
       "      <td>2016-03-19</td>\n",
       "      <td>Argentina-Buenos_Aires</td>\n",
       "      <td>province</td>\n",
       "      <td>cumulative_confirmed_local_cases</td>\n",
       "      <td>AR0001</td>\n",
       "      <td>0</td>\n",
       "      <td>cases</td>\n",
       "    </tr>\n",
       "    <tr>\n",
       "      <th>1</th>\n",
       "      <td>2016-03-19</td>\n",
       "      <td>Argentina-Buenos_Aires</td>\n",
       "      <td>province</td>\n",
       "      <td>cumulative_probable_local_cases</td>\n",
       "      <td>AR0002</td>\n",
       "      <td>0</td>\n",
       "      <td>cases</td>\n",
       "    </tr>\n",
       "    <tr>\n",
       "      <th>2</th>\n",
       "      <td>2016-03-19</td>\n",
       "      <td>Argentina-Buenos_Aires</td>\n",
       "      <td>province</td>\n",
       "      <td>cumulative_confirmed_imported_cases</td>\n",
       "      <td>AR0003</td>\n",
       "      <td>2</td>\n",
       "      <td>cases</td>\n",
       "    </tr>\n",
       "    <tr>\n",
       "      <th>3</th>\n",
       "      <td>2016-03-19</td>\n",
       "      <td>Argentina-Buenos_Aires</td>\n",
       "      <td>province</td>\n",
       "      <td>cumulative_probable_imported_cases</td>\n",
       "      <td>AR0004</td>\n",
       "      <td>1</td>\n",
       "      <td>cases</td>\n",
       "    </tr>\n",
       "    <tr>\n",
       "      <th>4</th>\n",
       "      <td>2016-03-19</td>\n",
       "      <td>Argentina-Buenos_Aires</td>\n",
       "      <td>province</td>\n",
       "      <td>cumulative_cases_under_study</td>\n",
       "      <td>AR0005</td>\n",
       "      <td>127</td>\n",
       "      <td>cases</td>\n",
       "    </tr>\n",
       "    <tr>\n",
       "      <th>5</th>\n",
       "      <td>2016-03-19</td>\n",
       "      <td>Argentina-Buenos_Aires</td>\n",
       "      <td>province</td>\n",
       "      <td>cumulative_cases_discarded</td>\n",
       "      <td>AR0006</td>\n",
       "      <td>0</td>\n",
       "      <td>cases</td>\n",
       "    </tr>\n",
       "    <tr>\n",
       "      <th>6</th>\n",
       "      <td>2016-03-19</td>\n",
       "      <td>Argentina-CABA</td>\n",
       "      <td>province</td>\n",
       "      <td>cumulative_confirmed_local_cases</td>\n",
       "      <td>AR0001</td>\n",
       "      <td>0</td>\n",
       "      <td>cases</td>\n",
       "    </tr>\n",
       "    <tr>\n",
       "      <th>7</th>\n",
       "      <td>2016-03-19</td>\n",
       "      <td>Argentina-CABA</td>\n",
       "      <td>province</td>\n",
       "      <td>cumulative_probable_local_cases</td>\n",
       "      <td>AR0002</td>\n",
       "      <td>0</td>\n",
       "      <td>cases</td>\n",
       "    </tr>\n",
       "    <tr>\n",
       "      <th>8</th>\n",
       "      <td>2016-03-19</td>\n",
       "      <td>Argentina-CABA</td>\n",
       "      <td>province</td>\n",
       "      <td>cumulative_confirmed_imported_cases</td>\n",
       "      <td>AR0003</td>\n",
       "      <td>9</td>\n",
       "      <td>cases</td>\n",
       "    </tr>\n",
       "    <tr>\n",
       "      <th>9</th>\n",
       "      <td>2016-03-19</td>\n",
       "      <td>Argentina-CABA</td>\n",
       "      <td>province</td>\n",
       "      <td>cumulative_probable_imported_cases</td>\n",
       "      <td>AR0004</td>\n",
       "      <td>0</td>\n",
       "      <td>cases</td>\n",
       "    </tr>\n",
       "  </tbody>\n",
       "</table>\n",
       "</div>"
      ],
      "text/plain": [
       "  report_date                location location_type  \\\n",
       "0  2016-03-19  Argentina-Buenos_Aires      province   \n",
       "1  2016-03-19  Argentina-Buenos_Aires      province   \n",
       "2  2016-03-19  Argentina-Buenos_Aires      province   \n",
       "3  2016-03-19  Argentina-Buenos_Aires      province   \n",
       "4  2016-03-19  Argentina-Buenos_Aires      province   \n",
       "5  2016-03-19  Argentina-Buenos_Aires      province   \n",
       "6  2016-03-19          Argentina-CABA      province   \n",
       "7  2016-03-19          Argentina-CABA      province   \n",
       "8  2016-03-19          Argentina-CABA      province   \n",
       "9  2016-03-19          Argentina-CABA      province   \n",
       "\n",
       "                            data_field data_field_code value   unit  \n",
       "0     cumulative_confirmed_local_cases          AR0001     0  cases  \n",
       "1      cumulative_probable_local_cases          AR0002     0  cases  \n",
       "2  cumulative_confirmed_imported_cases          AR0003     2  cases  \n",
       "3   cumulative_probable_imported_cases          AR0004     1  cases  \n",
       "4         cumulative_cases_under_study          AR0005   127  cases  \n",
       "5           cumulative_cases_discarded          AR0006     0  cases  \n",
       "6     cumulative_confirmed_local_cases          AR0001     0  cases  \n",
       "7      cumulative_probable_local_cases          AR0002     0  cases  \n",
       "8  cumulative_confirmed_imported_cases          AR0003     9  cases  \n",
       "9   cumulative_probable_imported_cases          AR0004     0  cases  "
      ]
     },
     "execution_count": 15,
     "metadata": {},
     "output_type": "execute_result"
    }
   ],
   "source": [
    "new_df.head(10)"
   ]
  },
  {
   "cell_type": "code",
   "execution_count": 16,
   "metadata": {},
   "outputs": [
    {
     "data": {
      "text/html": [
       "<div>\n",
       "<style scoped>\n",
       "    .dataframe tbody tr th:only-of-type {\n",
       "        vertical-align: middle;\n",
       "    }\n",
       "\n",
       "    .dataframe tbody tr th {\n",
       "        vertical-align: top;\n",
       "    }\n",
       "\n",
       "    .dataframe thead th {\n",
       "        text-align: right;\n",
       "    }\n",
       "</style>\n",
       "<table border=\"1\" class=\"dataframe\">\n",
       "  <thead>\n",
       "    <tr style=\"text-align: right;\">\n",
       "      <th></th>\n",
       "      <th>report_date</th>\n",
       "      <th>location</th>\n",
       "      <th>location_type</th>\n",
       "      <th>data_field</th>\n",
       "      <th>data_field_code</th>\n",
       "      <th>value</th>\n",
       "      <th>unit</th>\n",
       "    </tr>\n",
       "  </thead>\n",
       "  <tbody>\n",
       "    <tr>\n",
       "      <th>count</th>\n",
       "      <td>252</td>\n",
       "      <td>252</td>\n",
       "      <td>252</td>\n",
       "      <td>252</td>\n",
       "      <td>252</td>\n",
       "      <td>252</td>\n",
       "      <td>252</td>\n",
       "    </tr>\n",
       "    <tr>\n",
       "      <th>unique</th>\n",
       "      <td>14</td>\n",
       "      <td>3</td>\n",
       "      <td>1</td>\n",
       "      <td>6</td>\n",
       "      <td>6</td>\n",
       "      <td>42</td>\n",
       "      <td>1</td>\n",
       "    </tr>\n",
       "    <tr>\n",
       "      <th>top</th>\n",
       "      <td>2016-05-07</td>\n",
       "      <td>Argentina-Catamarca</td>\n",
       "      <td>province</td>\n",
       "      <td>cumulative_confirmed_imported_cases</td>\n",
       "      <td>AR0006</td>\n",
       "      <td>0</td>\n",
       "      <td>cases</td>\n",
       "    </tr>\n",
       "    <tr>\n",
       "      <th>freq</th>\n",
       "      <td>18</td>\n",
       "      <td>84</td>\n",
       "      <td>252</td>\n",
       "      <td>42</td>\n",
       "      <td>42</td>\n",
       "      <td>142</td>\n",
       "      <td>252</td>\n",
       "    </tr>\n",
       "  </tbody>\n",
       "</table>\n",
       "</div>"
      ],
      "text/plain": [
       "       report_date             location location_type  \\\n",
       "count          252                  252           252   \n",
       "unique          14                    3             1   \n",
       "top     2016-05-07  Argentina-Catamarca      province   \n",
       "freq            18                   84           252   \n",
       "\n",
       "                                 data_field data_field_code value   unit  \n",
       "count                                   252             252   252    252  \n",
       "unique                                    6               6    42      1  \n",
       "top     cumulative_confirmed_imported_cases          AR0006     0  cases  \n",
       "freq                                     42              42   142    252  "
      ]
     },
     "execution_count": 16,
     "metadata": {},
     "output_type": "execute_result"
    }
   ],
   "source": [
    "new_df.describe()"
   ]
  },
  {
   "cell_type": "code",
   "execution_count": 17,
   "metadata": {},
   "outputs": [
    {
     "name": "stderr",
     "output_type": "stream",
     "text": [
      "C:\\Users\\Utkarsh\\Anaconda3\\lib\\site-packages\\ipykernel_launcher.py:1: SettingWithCopyWarning: \n",
      "A value is trying to be set on a copy of a slice from a DataFrame.\n",
      "Try using .loc[row_indexer,col_indexer] = value instead\n",
      "\n",
      "See the caveats in the documentation: http://pandas.pydata.org/pandas-docs/stable/indexing.html#indexing-view-versus-copy\n",
      "  \"\"\"Entry point for launching an IPython kernel.\n"
     ]
    }
   ],
   "source": [
    "new_df['value'] = pd.to_numeric(new_df['value'])"
   ]
  },
  {
   "cell_type": "markdown",
   "metadata": {},
   "source": [
    "## Distribution of Cases within a Province"
   ]
  },
  {
   "cell_type": "code",
   "execution_count": 18,
   "metadata": {},
   "outputs": [
    {
     "name": "stderr",
     "output_type": "stream",
     "text": [
      "C:\\Users\\Utkarsh\\Anaconda3\\lib\\site-packages\\matplotlib\\figure.py:98: MatplotlibDeprecationWarning: \n",
      "Adding an axes using the same arguments as a previous axes currently reuses the earlier instance.  In a future version, a new instance will always be created and returned.  Meanwhile, this warning can be suppressed, and the future behavior ensured, by passing a unique label to each axes instance.\n",
      "  \"Adding an axes using the same arguments as a previous axes \"\n"
     ]
    },
    {
     "data": {
      "image/png": "[encoded data removed]",
      "text/plain": [
       "<Figure size 576x360 with 1 Axes>"
      ]
     },
     "metadata": {},
     "output_type": "display_data"
    },
    {
     "data": {
      "image/png": "[encoded data removed]",
      "text/plain": [
       "<Figure size 576x360 with 1 Axes>"
      ]
     },
     "metadata": {},
     "output_type": "display_data"
    },
    {
     "data": {
      "image/png": "[encoded data removed]",
      "text/plain": [
       "<Figure size 576x360 with 1 Axes>"
      ]
     },
     "metadata": {},
     "output_type": "display_data"
    }
   ],
   "source": [
    "for loc in new_df.location.unique():\n",
    "    gp = new_df[new_df.location == loc].groupby('data_field').sum()\n",
    "    ax = gp.plot(kind = 'pie',y = 'value',figsize = (8,5),labels = None,startangle = 90,autopct=lambda p: '{:.1f}%'.format(round(p)) if p > 0.9 else '',pctdistance = 1.1)\n",
    "    plt.legend(labels=gp.index,loc='best', bbox_to_anchor=(-0.1, 0.9),fontsize=10)\n",
    "    plt.title(loc)\n",
    "    plt.axes().set_ylabel('')"
   ]
  },
  {
   "cell_type": "markdown",
   "metadata": {},
   "source": [
    "## Bar Graph depicting number of cases in different provinces for various types of cases"
   ]
  },
  {
   "cell_type": "code",
   "execution_count": 60,
   "metadata": {},
   "outputs": [
    {
     "data": {
      "text/plain": [
       "<matplotlib.legend.Legend at 0x2502b7beb38>"
      ]
     },
     "execution_count": 60,
     "metadata": {},
     "output_type": "execute_result"
    },
    {
     "data": {
      "image/png": "[encoded data removed]",
      "text/plain": [
       "<Figure size 720x576 with 1 Axes>"
      ]
     },
     "metadata": {
      "needs_background": "light"
     },
     "output_type": "display_data"
    }
   ],
   "source": [
    "d1 = new_df[new_df.location == 'Argentina-CABA'].groupby('data_field').sum()\n",
    "d2 = new_df[new_df.location == 'Argentina-Catamarca'].groupby('data_field').sum()\n",
    "d3 = new_df[new_df.location == 'Argentina-Buenos_Aires'].groupby('data_field').sum()\n",
    "d3 = d3[d3.value>0]\n",
    "d1.columns = ['Argentina-CABA']\n",
    "d2.columns = ['Argentina-Catamarca']\n",
    "d3.columns = ['Argentina-Buenos_Aires']\n",
    "ax = d3.join(d2).join(d1).plot(kind = 'bar',figsize=(10,8),title=\"Difference between 'Argentina-CABA', 'Argentina-Catamarca' and 'Argentina-Buenos_Aires' Case wise\")\n",
    "ax.set(xlabel=\"Type of Cases(Data Field)\", ylabel=\"Number of Cases\")\n",
    "plt.legend(title = 'Location')"
   ]
  },
  {
   "cell_type": "markdown",
   "metadata": {},
   "source": [
    "## Pie Chart showing provinces affected by various types of cases"
   ]
  },
  {
   "cell_type": "code",
   "execution_count": 20,
   "metadata": {
    "scrolled": false
   },
   "outputs": [
    {
     "data": {
      "image/png": "[encoded data removed]",
      "text/plain": [
       "<Figure size 504x504 with 1 Axes>"
      ]
     },
     "metadata": {},
     "output_type": "display_data"
    },
    {
     "data": {
      "image/png": "[encoded data removed]",
      "text/plain": [
       "<Figure size 504x504 with 1 Axes>"
      ]
     },
     "metadata": {},
     "output_type": "display_data"
    },
    {
     "data": {
      "image/png": "[encoded data removed]",
      "text/plain": [
       "<Figure size 504x504 with 1 Axes>"
      ]
     },
     "metadata": {},
     "output_type": "display_data"
    },
    {
     "data": {
      "image/png": "[encoded data removed]",
      "text/plain": [
       "<Figure size 504x504 with 1 Axes>"
      ]
     },
     "metadata": {},
     "output_type": "display_data"
    }
   ],
   "source": [
    "for case_type,grp in new_df.groupby('data_field'):\n",
    "    gp = grp.groupby('location').sum()\n",
    "    if(sum(gp.value)):\n",
    "        gp.plot(kind = 'pie',subplots = True,autopct=lambda p: '{:.1f}%'.format(round(p)) if p > 0 else '',startangle = 90,figsize = (7,7))\n",
    "        plt.title(case_type,y = 1.0)\n",
    "        plt.axes().set_ylabel('')\n",
    "        plt.axes().get_legend().remove()"
   ]
  },
  {
   "cell_type": "markdown",
   "metadata": {},
   "source": [
    "## 4. Build a program to predict the correct word for wrongly typed word. for example whst => what, numbr =>number, good => good\n",
    "Hint : identify most common mistakes that can occur during typing and use big text corpus(big.txt)"
   ]
  },
  {
   "cell_type": "markdown",
   "metadata": {},
   "source": [
    "#### Slower method of forming a dictionary"
   ]
  },
  {
   "cell_type": "code",
   "execution_count": 27,
   "metadata": {},
   "outputs": [],
   "source": [
    "# import string\n",
    "# import re\n",
    "\n",
    "# f = open(\"big.txt\")\n",
    "# dict_all = {}\n",
    "# space=\" \"\n",
    "# for i in range(len(string.punctuation)-1):\n",
    "#    space+=\" \"   \n",
    "# text = f.read()\n",
    "# f.close()\n",
    "# text = text.lower()\n",
    "# text = re.sub(r'\\d', ' ', text)\n",
    "# table = str.maketrans(string.punctuation, space)\n",
    "# text=text.translate(table)\n",
    "# words = text.split()\n",
    "# for w in set(words):\n",
    "#     dict_all[w] = words.count(w)\n",
    "\n",
    "# sorted(dict_all.items(), key=lambda item: item[1])"
   ]
  },
  {
   "cell_type": "markdown",
   "metadata": {},
   "source": [
    "## Implementation of Norvig Search Algorithm"
   ]
  },
  {
   "cell_type": "markdown",
   "metadata": {},
   "source": [
    "### Faster method of forming the dictionary"
   ]
  },
  {
   "cell_type": "code",
   "execution_count": 1,
   "metadata": {},
   "outputs": [],
   "source": [
    "import re\n",
    "from collections import Counter\n",
    "import math"
   ]
  },
  {
   "cell_type": "code",
   "execution_count": 62,
   "metadata": {},
   "outputs": [
    {
     "data": {
      "text/plain": [
       "[('the', 79809),\n",
       " ('of', 40024),\n",
       " ('and', 38312),\n",
       " ('to', 28765),\n",
       " ('in', 22023),\n",
       " ('a', 21124),\n",
       " ('that', 12512),\n",
       " ('he', 12401),\n",
       " ('was', 11410),\n",
       " ('it', 10681),\n",
       " ('his', 10034),\n",
       " ('is', 9773),\n",
       " ('with', 9739),\n",
       " ('as', 8064),\n",
       " ('i', 7684),\n",
       " ('had', 7383),\n",
       " ('for', 6941),\n",
       " ('at', 6789),\n",
       " ('by', 6735),\n",
       " ('on', 6639),\n",
       " ('not', 6626),\n",
       " ('be', 6155),\n",
       " ('from', 5689),\n",
       " ('but', 5653)]"
      ]
     },
     "execution_count": 62,
     "metadata": {},
     "output_type": "execute_result"
    }
   ],
   "source": [
    "with open('big.txt') as f:\n",
    "    text = f.read()\n",
    "    ctr = re.findall(r'\\w+', text.lower())\n",
    "    dict_words = Counter(ctr) \n",
    "dict_words.most_common(24)"
   ]
  },
  {
   "cell_type": "code",
   "execution_count": 3,
   "metadata": {},
   "outputs": [],
   "source": [
    "total_words = sum(dict_words.values())"
   ]
  },
  {
   "cell_type": "markdown",
   "metadata": {},
   "source": [
    "### Finding Log Probability for a word"
   ]
  },
  {
   "cell_type": "code",
   "execution_count": 24,
   "metadata": {},
   "outputs": [],
   "source": [
    "def Probability(word): \n",
    "    if dict_words[word]:\n",
    "        return math.log(dict_words[word] / total_words)\n",
    "    else:\n",
    "        return float(\"-inf\")"
   ]
  },
  {
   "cell_type": "markdown",
   "metadata": {},
   "source": [
    "### Finding all possible correct words for the given word"
   ]
  },
  {
   "cell_type": "code",
   "execution_count": 16,
   "metadata": {},
   "outputs": [],
   "source": [
    "def all_possible_words(word): \n",
    "    return (correctWord([word]) or correctWord(lev_dis1(word)) or correctWord(lev_dis2(word)) or [word])\n"
   ]
  },
  {
   "cell_type": "markdown",
   "metadata": {},
   "source": [
    "### Finding all combinations of words with Levenshtein distance as 1"
   ]
  },
  {
   "cell_type": "code",
   "execution_count": 28,
   "metadata": {},
   "outputs": [],
   "source": [
    "def lev_dis1(word):\n",
    "    letters    = 'abcdefghijklmnopqrstuvwxyz'\n",
    "    delete,transpose,replace,insert = [],[],[],[]\n",
    "    for i in range(len(word) + 1):\n",
    "        pre = word[:i]\n",
    "        suf = word[i:]\n",
    "        if suf:\n",
    "            delete.append(pre + suf[1:])\n",
    "        if len(suf) > 1 :\n",
    "            transpose.append(pre + suf[1] + suf[0] + suf[2:])\n",
    "        for char in letters:\n",
    "            insert.append(pre + char + suf)\n",
    "            if suf:\n",
    "                replace.append(pre + char + suf[1:])\n",
    "    all_words = set(delete + transpose + insert + replace)\n",
    "    return all_words"
   ]
  },
  {
   "cell_type": "markdown",
   "metadata": {},
   "source": [
    "### Finding all combinations of words with Levenshtein distance as 2\n"
   ]
  },
  {
   "cell_type": "code",
   "execution_count": 29,
   "metadata": {},
   "outputs": [],
   "source": [
    "def lev_dis2(word): \n",
    "    temp_words = lev_dis1(word)\n",
    "    ldis2_words = set()\n",
    "    for tword in temp_words:\n",
    "        ldis2_words.update(lev_dis1(tword))\n",
    "    return ldis2_words"
   ]
  },
  {
   "cell_type": "markdown",
   "metadata": {},
   "source": [
    "### Finding all valid words from the set of words"
   ]
  },
  {
   "cell_type": "code",
   "execution_count": 13,
   "metadata": {},
   "outputs": [],
   "source": [
    "def correctWord(words): \n",
    "    corr_word = set()\n",
    "    for word in words:\n",
    "        if word in dict_words:\n",
    "            corr_word.add(word)\n",
    "    return corr_word"
   ]
  },
  {
   "cell_type": "markdown",
   "metadata": {},
   "source": [
    "### Function to find correct spelling if possible: returns the most probable spelling of the given word"
   ]
  },
  {
   "cell_type": "code",
   "execution_count": 10,
   "metadata": {},
   "outputs": [],
   "source": [
    "def spell_check(word): \n",
    "    return max(all_possible_words(word), key=Probability)"
   ]
  },
  {
   "cell_type": "markdown",
   "metadata": {},
   "source": [
    "### Function that corrects all spelling mistakes in a sentence "
   ]
  },
  {
   "cell_type": "code",
   "execution_count": 50,
   "metadata": {},
   "outputs": [],
   "source": [
    "def sentence_corrector(sent):\n",
    "    return \" \".join(list(map(spell_check,sent.strip().lower().split())))"
   ]
  },
  {
   "cell_type": "markdown",
   "metadata": {},
   "source": [
    "### Few examples of the spell checker"
   ]
  },
  {
   "cell_type": "code",
   "execution_count": 26,
   "metadata": {},
   "outputs": [
    {
     "data": {
      "text/plain": [
       "'bliss'"
      ]
     },
     "execution_count": 26,
     "metadata": {},
     "output_type": "execute_result"
    }
   ],
   "source": [
    "spell_check(\"blis\")"
   ]
  },
  {
   "cell_type": "code",
   "execution_count": 35,
   "metadata": {},
   "outputs": [
    {
     "data": {
      "text/plain": [
       "'this is wrong spelling'"
      ]
     },
     "execution_count": 35,
     "metadata": {},
     "output_type": "execute_result"
    }
   ],
   "source": [
    "sentence_corrector(\"thiis is vrong speling\")"
   ]
  },
  {
   "cell_type": "code",
   "execution_count": 36,
   "metadata": {},
   "outputs": [
    {
     "data": {
      "text/plain": [
       "'factory'"
      ]
     },
     "execution_count": 36,
     "metadata": {},
     "output_type": "execute_result"
    }
   ],
   "source": [
    "spell_check('factry')"
   ]
  },
  {
   "cell_type": "code",
   "execution_count": 37,
   "metadata": {},
   "outputs": [
    {
     "data": {
      "text/plain": [
       "'boredom'"
      ]
     },
     "execution_count": 37,
     "metadata": {},
     "output_type": "execute_result"
    }
   ],
   "source": [
    "spell_check('bordom')"
   ]
  },
  {
   "cell_type": "code",
   "execution_count": 44,
   "metadata": {},
   "outputs": [
    {
     "data": {
      "text/plain": [
       "'today is another day'"
      ]
     },
     "execution_count": 44,
     "metadata": {},
     "output_type": "execute_result"
    }
   ],
   "source": [
    "sentence_corrector('tooday is anthrr qday')"
   ]
  },
  {
   "cell_type": "code",
   "execution_count": 59,
   "metadata": {},
   "outputs": [
    {
     "data": {
      "text/plain": [
       "'east or west nagarro is the best'"
      ]
     },
     "execution_count": 59,
     "metadata": {},
     "output_type": "execute_result"
    }
   ],
   "source": [
    "sentence_corrector('east or wst Nagarro is teh beesst')"
   ]
  },
  {
   "cell_type": "code",
   "execution_count": null,
   "metadata": {},
   "outputs": [],
   "source": []
  }
 ],
 "metadata": {
  "kernelspec": {
   "display_name": "Python 3",
   "language": "python",
   "name": "python3"
  },
  "language_info": {
   "codemirror_mode": {
    "name": "ipython",
    "version": 3
   },
   "file_extension": ".py",
   "mimetype": "text/x-python",
   "name": "python",
   "nbconvert_exporter": "python",
   "pygments_lexer": "ipython3",
   "version": "3.6.8"
  }
 },
 "nbformat": 4,
 "nbformat_minor": 2
}
